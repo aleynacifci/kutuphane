{
  "nbformat": 4,
  "nbformat_minor": 0,
  "metadata": {
    "colab": {
      "provenance": [],
      "authorship_tag": "ABX9TyPzCNfSdBQE4eMvKMvZo+hI",
      "include_colab_link": true
    },
    "kernelspec": {
      "name": "python3",
      "display_name": "Python 3"
    },
    "language_info": {
      "name": "python"
    }
  },
  "cells": [
    {
      "cell_type": "markdown",
      "metadata": {
        "id": "view-in-github",
        "colab_type": "text"
      },
      "source": [
        "<a href=\"https://colab.research.google.com/github/aleynacifci/k-t-phane/blob/main/otomasyon.ipynb\" target=\"_parent\"><img src=\"https://colab.research.google.com/assets/colab-badge.svg\" alt=\"Open In Colab\"/></a>"
      ]
    },
    {
      "cell_type": "code",
      "execution_count": 1,
      "metadata": {
        "colab": {
          "base_uri": "https://localhost:8080/",
          "height": 946
        },
        "id": "yGP98g1wfajH",
        "outputId": "27e42be1-fe1e-4e90-f94c-b5b38e6a85d0"
      },
      "outputs": [
        {
          "output_type": "stream",
          "name": "stdout",
          "text": [
            "\n",
            "1. Kitap Ekle\n",
            "2. Kitapları Listele\n",
            "3. Kitap Ödünç Al\n",
            "4. Kitap İade Et\n",
            "5. Çıkış\n",
            "Bir seçenek girin: 1\n",
            "Kitap başlığını girin: Gazap Üzümleri\n",
            "Yazar adını girin: Aleyna\n",
            "Eklendi: 'Gazap Üzümleri' - Aleyna - Mevcut\n",
            "\n",
            "1. Kitap Ekle\n",
            "2. Kitapları Listele\n",
            "3. Kitap Ödünç Al\n",
            "4. Kitap İade Et\n",
            "5. Çıkış\n",
            "Bir seçenek girin: 3\n",
            "Ödünç almak istediğiniz kitap başlığını girin: Gazap üzümleri\n",
            "Kitap bulunamadı.\n",
            "\n",
            "1. Kitap Ekle\n",
            "2. Kitapları Listele\n",
            "3. Kitap Ödünç Al\n",
            "4. Kitap İade Et\n",
            "5. Çıkış\n",
            "Bir seçenek girin: 3\n",
            "Ödünç almak istediğiniz kitap başlığını girin: Gazap Üzümleri\n",
            "Ödünç Aldınız: 'Gazap Üzümleri' - Aleyna - Ödünç Alındı\n",
            "\n",
            "1. Kitap Ekle\n",
            "2. Kitapları Listele\n",
            "3. Kitap Ödünç Al\n",
            "4. Kitap İade Et\n",
            "5. Çıkış\n"
          ]
        },
        {
          "output_type": "error",
          "ename": "KeyboardInterrupt",
          "evalue": "Interrupted by user",
          "traceback": [
            "\u001b[0;31m---------------------------------------------------------------------------\u001b[0m",
            "\u001b[0;31mKeyboardInterrupt\u001b[0m                         Traceback (most recent call last)",
            "\u001b[0;32m<ipython-input-1-8028450653f1>\u001b[0m in \u001b[0;36m<cell line: 80>\u001b[0;34m()\u001b[0m\n\u001b[1;32m     79\u001b[0m \u001b[0;34m\u001b[0m\u001b[0m\n\u001b[1;32m     80\u001b[0m \u001b[0;32mif\u001b[0m \u001b[0m__name__\u001b[0m \u001b[0;34m==\u001b[0m \u001b[0;34m\"__main__\"\u001b[0m\u001b[0;34m:\u001b[0m\u001b[0;34m\u001b[0m\u001b[0;34m\u001b[0m\u001b[0m\n\u001b[0;32m---> 81\u001b[0;31m     \u001b[0mana\u001b[0m\u001b[0;34m(\u001b[0m\u001b[0;34m)\u001b[0m\u001b[0;34m\u001b[0m\u001b[0;34m\u001b[0m\u001b[0m\n\u001b[0m",
            "\u001b[0;32m<ipython-input-1-8028450653f1>\u001b[0m in \u001b[0;36mana\u001b[0;34m()\u001b[0m\n\u001b[1;32m     58\u001b[0m         \u001b[0mprint\u001b[0m\u001b[0;34m(\u001b[0m\u001b[0;34m\"4. Kitap İade Et\"\u001b[0m\u001b[0;34m)\u001b[0m\u001b[0;34m\u001b[0m\u001b[0;34m\u001b[0m\u001b[0m\n\u001b[1;32m     59\u001b[0m         \u001b[0mprint\u001b[0m\u001b[0;34m(\u001b[0m\u001b[0;34m\"5. Çıkış\"\u001b[0m\u001b[0;34m)\u001b[0m\u001b[0;34m\u001b[0m\u001b[0;34m\u001b[0m\u001b[0m\n\u001b[0;32m---> 60\u001b[0;31m         \u001b[0msecim\u001b[0m \u001b[0;34m=\u001b[0m \u001b[0minput\u001b[0m\u001b[0;34m(\u001b[0m\u001b[0;34m\"Bir seçenek girin: \"\u001b[0m\u001b[0;34m)\u001b[0m\u001b[0;34m\u001b[0m\u001b[0;34m\u001b[0m\u001b[0m\n\u001b[0m\u001b[1;32m     61\u001b[0m \u001b[0;34m\u001b[0m\u001b[0m\n\u001b[1;32m     62\u001b[0m         \u001b[0;32mif\u001b[0m \u001b[0msecim\u001b[0m \u001b[0;34m==\u001b[0m \u001b[0;34m'1'\u001b[0m\u001b[0;34m:\u001b[0m\u001b[0;34m\u001b[0m\u001b[0;34m\u001b[0m\u001b[0m\n",
            "\u001b[0;32m/usr/local/lib/python3.10/dist-packages/ipykernel/kernelbase.py\u001b[0m in \u001b[0;36mraw_input\u001b[0;34m(self, prompt)\u001b[0m\n\u001b[1;32m    849\u001b[0m                 \u001b[0;34m\"raw_input was called, but this frontend does not support input requests.\"\u001b[0m\u001b[0;34m\u001b[0m\u001b[0;34m\u001b[0m\u001b[0m\n\u001b[1;32m    850\u001b[0m             )\n\u001b[0;32m--> 851\u001b[0;31m         return self._input_request(str(prompt),\n\u001b[0m\u001b[1;32m    852\u001b[0m             \u001b[0mself\u001b[0m\u001b[0;34m.\u001b[0m\u001b[0m_parent_ident\u001b[0m\u001b[0;34m,\u001b[0m\u001b[0;34m\u001b[0m\u001b[0;34m\u001b[0m\u001b[0m\n\u001b[1;32m    853\u001b[0m             \u001b[0mself\u001b[0m\u001b[0;34m.\u001b[0m\u001b[0m_parent_header\u001b[0m\u001b[0;34m,\u001b[0m\u001b[0;34m\u001b[0m\u001b[0;34m\u001b[0m\u001b[0m\n",
            "\u001b[0;32m/usr/local/lib/python3.10/dist-packages/ipykernel/kernelbase.py\u001b[0m in \u001b[0;36m_input_request\u001b[0;34m(self, prompt, ident, parent, password)\u001b[0m\n\u001b[1;32m    893\u001b[0m             \u001b[0;32mexcept\u001b[0m \u001b[0mKeyboardInterrupt\u001b[0m\u001b[0;34m:\u001b[0m\u001b[0;34m\u001b[0m\u001b[0;34m\u001b[0m\u001b[0m\n\u001b[1;32m    894\u001b[0m                 \u001b[0;31m# re-raise KeyboardInterrupt, to truncate traceback\u001b[0m\u001b[0;34m\u001b[0m\u001b[0;34m\u001b[0m\u001b[0m\n\u001b[0;32m--> 895\u001b[0;31m                 \u001b[0;32mraise\u001b[0m \u001b[0mKeyboardInterrupt\u001b[0m\u001b[0;34m(\u001b[0m\u001b[0;34m\"Interrupted by user\"\u001b[0m\u001b[0;34m)\u001b[0m \u001b[0;32mfrom\u001b[0m \u001b[0;32mNone\u001b[0m\u001b[0;34m\u001b[0m\u001b[0;34m\u001b[0m\u001b[0m\n\u001b[0m\u001b[1;32m    896\u001b[0m             \u001b[0;32mexcept\u001b[0m \u001b[0mException\u001b[0m \u001b[0;32mas\u001b[0m \u001b[0me\u001b[0m\u001b[0;34m:\u001b[0m\u001b[0;34m\u001b[0m\u001b[0;34m\u001b[0m\u001b[0m\n\u001b[1;32m    897\u001b[0m                 \u001b[0mself\u001b[0m\u001b[0;34m.\u001b[0m\u001b[0mlog\u001b[0m\u001b[0;34m.\u001b[0m\u001b[0mwarning\u001b[0m\u001b[0;34m(\u001b[0m\u001b[0;34m\"Invalid Message:\"\u001b[0m\u001b[0;34m,\u001b[0m \u001b[0mexc_info\u001b[0m\u001b[0;34m=\u001b[0m\u001b[0;32mTrue\u001b[0m\u001b[0;34m)\u001b[0m\u001b[0;34m\u001b[0m\u001b[0;34m\u001b[0m\u001b[0m\n",
            "\u001b[0;31mKeyboardInterrupt\u001b[0m: Interrupted by user"
          ]
        }
      ],
      "source": [
        "class Kitap:\n",
        "    def __init__(self, baslik, yazar):\n",
        "        self.baslik = baslik\n",
        "        self.yazar = yazar\n",
        "        self.odunc_alindi = False\n",
        "\n",
        "    def __str__(self):\n",
        "        return f\"'{self.baslik}' - {self.yazar} - {'Ödünç Alındı' if self.odunc_alindi else 'Mevcut'}\"\n",
        "\n",
        "\n",
        "class Kutuphane:\n",
        "    def __init__(self):\n",
        "        self.kitaplar = []\n",
        "\n",
        "    def kitap_ekle(self, baslik, yazar):\n",
        "        yeni_kitap = Kitap(baslik, yazar)\n",
        "        self.kitaplar.append(yeni_kitap)\n",
        "        print(f\"Eklendi: {yeni_kitap}\")\n",
        "\n",
        "    def kitaplari_listele(self):\n",
        "        if not self.kitaplar:\n",
        "            print(\"Kütüphanede hiç kitap yok.\")\n",
        "        for kitap in self.kitaplar:\n",
        "            print(kitap)\n",
        "\n",
        "    def kitap_odunc_al(self, baslik):\n",
        "        for kitap in self.kitaplar:\n",
        "            if kitap.baslik == baslik:\n",
        "                if not kitap.odunc_alindi:\n",
        "                    kitap.odunc_alindi = True\n",
        "                    print(f\"Ödünç Aldınız: {kitap}\")\n",
        "                    return\n",
        "                else:\n",
        "                    print(\"Bu kitap zaten ödünç alınmış.\")\n",
        "                    return\n",
        "        print(\"Kitap bulunamadı.\")\n",
        "\n",
        "    def kitap_iade_et(self, baslik):\n",
        "        for kitap in self.kitaplar:\n",
        "            if kitap.baslik == baslik:\n",
        "                if kitap.odunc_alindi:\n",
        "                    kitap.odunc_alindi = False\n",
        "                    print(f\"Iade Ettiniz: {kitap}\")\n",
        "                    return\n",
        "                else:\n",
        "                    print(\"Bu kitap ödünç alınmamış.\")\n",
        "                    return\n",
        "        print(\"Kitap bulunamadı.\")\n",
        "\n",
        "\n",
        "def ana():\n",
        "    kutuphane = Kutuphane()\n",
        "\n",
        "    while True:\n",
        "        print(\"\\n1. Kitap Ekle\")\n",
        "        print(\"2. Kitapları Listele\")\n",
        "        print(\"3. Kitap Ödünç Al\")\n",
        "        print(\"4. Kitap İade Et\")\n",
        "        print(\"5. Çıkış\")\n",
        "        secim = input(\"Bir seçenek girin: \")\n",
        "\n",
        "        if secim == '1':\n",
        "            baslik = input(\"Kitap başlığını girin: \")\n",
        "            yazar = input(\"Yazar adını girin: \")\n",
        "            kutuphane.kitap_ekle(baslik, yazar)\n",
        "        elif secim == '2':\n",
        "            kutuphane.kitaplari_listele()\n",
        "        elif secim == '3':\n",
        "            baslik = input(\"Ödünç almak istediğiniz kitap başlığını girin: \")\n",
        "            kutuphane.kitap_odunc_al(baslik)\n",
        "        elif secim == '4':\n",
        "            baslik = input(\"İade etmek istediğiniz kitap başlığını girin: \")\n",
        "            kutuphane.kitap_iade_et(baslik)\n",
        "        elif secim == '5':\n",
        "            print(\"Kütüphane sisteminden çıkılıyor.\")\n",
        "            break\n",
        "        else:\n",
        "            print(\"Geçersiz seçim. Lütfen tekrar deneyin.\")\n",
        "\n",
        "if __name__ == \"__main__\":\n",
        "    ana()\n"
      ]
    }
  ]
}